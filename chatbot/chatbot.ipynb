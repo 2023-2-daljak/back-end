{
  "nbformat": 4,
  "nbformat_minor": 0,
  "metadata": {
    "colab": {
      "provenance": []
    },
    "kernelspec": {
      "name": "python3",
      "display_name": "Python 3"
    },
    "language_info": {
      "name": "python"
    }
  },
  "cells": [
    {
      "cell_type": "code",
      "execution_count": null,
      "metadata": {
        "colab": {
          "base_uri": "https://localhost:8080/"
        },
        "id": "j0bmF7j-0TM1",
        "outputId": "a98d9030-bccb-4731-d3f4-ce8012ca68af"
      },
      "outputs": [
        {
          "output_type": "stream",
          "name": "stdout",
          "text": [
            "hello world\n"
          ]
        }
      ],
      "source": [
        "print(\"hello world\")"
      ]
    },
    {
      "cell_type": "code",
      "source": [
        "!pip install konlpy"
      ],
      "metadata": {
        "colab": {
          "base_uri": "https://localhost:8080/"
        },
        "id": "nLYal3Bz0b_7",
        "outputId": "ae575abe-6924-45d4-b396-b6a30a602803"
      },
      "execution_count": null,
      "outputs": [
        {
          "output_type": "stream",
          "name": "stdout",
          "text": [
            "Collecting konlpy\n",
            "  Downloading konlpy-0.6.0-py2.py3-none-any.whl (19.4 MB)\n",
            "\u001b[2K     \u001b[90m━━━━━━━━━━━━━━━━━━━━━━━━━━━━━━━━━━━━━━━━\u001b[0m \u001b[32m19.4/19.4 MB\u001b[0m \u001b[31m44.1 MB/s\u001b[0m eta \u001b[36m0:00:00\u001b[0m\n",
            "\u001b[?25hRequirement already satisfied: JPype1>=0.7.0 in /usr/local/lib/python3.10/dist-packages (from konlpy) (1.4.1)\n",
            "Requirement already satisfied: lxml>=4.1.0 in /usr/local/lib/python3.10/dist-packages (from konlpy) (4.9.3)\n",
            "Requirement already satisfied: numpy>=1.6 in /usr/local/lib/python3.10/dist-packages (from konlpy) (1.23.5)\n",
            "Requirement already satisfied: packaging in /usr/local/lib/python3.10/dist-packages (from JPype1>=0.7.0->konlpy) (23.2)\n",
            "Installing collected packages: konlpy\n",
            "Successfully installed konlpy-0.6.0\n"
          ]
        }
      ]
    },
    {
      "cell_type": "code",
      "source": [
        "pwd"
      ],
      "metadata": {
        "id": "-kSqb8K5LrQs",
        "outputId": "f795a5a8-938e-4b3f-e492-1fe84f771d98",
        "colab": {
          "base_uri": "https://localhost:8080/",
          "height": 36
        }
      },
      "execution_count": null,
      "outputs": [
        {
          "output_type": "execute_result",
          "data": {
            "text/plain": [
              "'/content'"
            ],
            "application/vnd.google.colaboratory.intrinsic+json": {
              "type": "string"
            }
          },
          "metadata": {},
          "execution_count": 1
        }
      ]
    },
    {
      "cell_type": "code",
      "source": [
        "import os\n",
        "from gensim.models import doc2vec\n",
        "from gensim.models.doc2vec import TaggedDocument"
      ],
      "metadata": {
        "id": "9P8MoUzvLrxh"
      },
      "execution_count": null,
      "outputs": []
    },
    {
      "cell_type": "code",
      "source": [
        "!pip install JPype1\n"
      ],
      "metadata": {
        "colab": {
          "base_uri": "https://localhost:8080/"
        },
        "id": "RxE5C76UeHE_",
        "outputId": "ef9c6484-a00d-4fe0-b510-e3c8ddf03c13"
      },
      "execution_count": null,
      "outputs": [
        {
          "output_type": "stream",
          "name": "stdout",
          "text": [
            "Requirement already satisfied: JPype1 in /usr/local/lib/python3.10/dist-packages (1.4.1)\n",
            "Requirement already satisfied: packaging in /usr/local/lib/python3.10/dist-packages (from JPype1) (23.2)\n"
          ]
        }
      ]
    },
    {
      "cell_type": "code",
      "source": [
        "faqs = [\n",
        "        [\"1\",\"결제는 어떻게 해야 되나요?\",\"원하시는 상품의 등록자에게 다이렉트 메세지를 보내세요.\"],\n",
        "        [\"2\",\"환불은 안되나요?\",\"부분환불만 가능합니다.환불정책표를 살펴보세요.\"],\n",
        "        [\"3\",\"할인은 없나요?\",\". 따로 없습니다.\"],\n",
        "        [\"4\",\"만약 게시물 등록자의 이력이 허위일 경우 어떻게 하나요?\",\"조사후,허위사실이 인정되면 전액환불해 드립니다.\"],\n",
        "        [\"5\",\"제가 원하는 상품이 카테고리에 없을 경우 어떻게 하나요?\",\"외주콜 게시판을 이용해 주세요.\"]\n",
        "    ]"
      ],
      "metadata": {
        "id": "1Xao-EN6STt8"
      },
      "execution_count": null,
      "outputs": []
    },
    {
      "cell_type": "code",
      "source": [
        "import jpype\n",
        "from konlpy.tag import Kkma"
      ],
      "metadata": {
        "id": "s5tifrwaT8BT"
      },
      "execution_count": null,
      "outputs": []
    },
    {
      "cell_type": "code",
      "source": [
        "\n",
        "kkma = Kkma()\n",
        "\n",
        "def tokenizer_kkma(doc):\n",
        "  jpype.attachThreadToJVM()\n",
        "  token_doc = ['/'.join(word) for word in kkma.pos(doc)]\n",
        "  return token_doc\n"
      ],
      "metadata": {
        "cellView": "code",
        "id": "ny48H710dC22"
      },
      "execution_count": null,
      "outputs": []
    },
    {
      "cell_type": "code",
      "source": [
        "print(tokenizer_kkma(faqs[0][1]))"
      ],
      "metadata": {
        "colab": {
          "base_uri": "https://localhost:8080/"
        },
        "id": "VQghpDxqgQwb",
        "outputId": "78a5223e-8095-44e1-b18f-719a28cb9163"
      },
      "execution_count": null,
      "outputs": [
        {
          "output_type": "stream",
          "name": "stderr",
          "text": [
            "<ipython-input-9-97105d443696>:4: DeprecationWarning: jpype._core.attachThreadToJVM is deprecated, use java.lang.Thread.attach instead\n",
            "  jpype.attachThreadToJVM()\n"
          ]
        },
        {
          "output_type": "stream",
          "name": "stdout",
          "text": [
            "['결제/NNG', '는/JX', '어떻/VA', '게/ECD', '하/VV', '어야/ECD', '되/VV', '나요/EFQ', '?/SF']\n"
          ]
        }
      ]
    },
    {
      "cell_type": "code",
      "source": [
        "#list 첫번째는 질문들 두번째는 인덱스(질문들 다 쪼개기)\n",
        "token_faqs = [(tokenizer_kkma(row[1]),row[0]) for row in faqs]\n",
        "\n",
        "tagged_faqs = [TaggedDocument(d,[c]) for d,c in token_faqs]"
      ],
      "metadata": {
        "id": "2gIBDVyogweQ"
      },
      "execution_count": null,
      "outputs": []
    },
    {
      "cell_type": "code",
      "source": [
        "token_faqs"
      ],
      "metadata": {
        "colab": {
          "base_uri": "https://localhost:8080/"
        },
        "id": "Q_BQUr-HibnY",
        "outputId": "f46beb17-605c-42b3-c02e-15b07e0b2ab7"
      },
      "execution_count": null,
      "outputs": [
        {
          "output_type": "execute_result",
          "data": {
            "text/plain": [
              "[(['결제/NNG',\n",
              "   '는/JX',\n",
              "   '어떻/VA',\n",
              "   '게/ECD',\n",
              "   '하/VV',\n",
              "   '어야/ECD',\n",
              "   '되/VV',\n",
              "   '나요/EFQ',\n",
              "   '?/SF'],\n",
              "  '1'),\n",
              " (['환불/NNG', '은/JX', '안되/VA', '나요/EFQ', '?/SF'], '2'),\n",
              " (['할인/NNG', '은/JX', '없/VA', '나요/EFQ', '?/SF'], '3'),\n",
              " (['만약/NNG',\n",
              "   '게시물/NNG',\n",
              "   '등록/NNG',\n",
              "   '자/NNG',\n",
              "   '의/JKG',\n",
              "   '이력/NNG',\n",
              "   '이/JKS',\n",
              "   '허위/NNG',\n",
              "   '이/VCP',\n",
              "   'ㄹ/ETD',\n",
              "   '경우/NNG',\n",
              "   '어떻게/MAG',\n",
              "   '하나/NNG',\n",
              "   '이/VCP',\n",
              "   '요/EFN',\n",
              "   '?/SF'],\n",
              "  '4'),\n",
              " (['저/NP',\n",
              "   '가/JKS',\n",
              "   '원하/VV',\n",
              "   '는/ETD',\n",
              "   '상품/NNG',\n",
              "   '이/JKS',\n",
              "   '카테고리/NNG',\n",
              "   '에/JKM',\n",
              "   '없/VA',\n",
              "   '을/ETD',\n",
              "   '경우/NNG',\n",
              "   '어떻게/MAG',\n",
              "   '하나/NNG',\n",
              "   '이/VCP',\n",
              "   '요/EFN',\n",
              "   '?/SF'],\n",
              "  '5')]"
            ]
          },
          "metadata": {},
          "execution_count": 26
        }
      ]
    },
    {
      "cell_type": "code",
      "source": [
        "tagged_faqs #태그값으로 구분하기 때문에 태그값을 꼭 넣어줘야 된다"
      ],
      "metadata": {
        "colab": {
          "base_uri": "https://localhost:8080/"
        },
        "id": "HEmW8YQtiSTZ",
        "outputId": "09d5d04e-25e8-464a-8215-fbcba862910f"
      },
      "execution_count": null,
      "outputs": [
        {
          "output_type": "execute_result",
          "data": {
            "text/plain": [
              "[TaggedDocument(words=['결제/NNG', '는/JX', '어떻/VA', '게/ECD', '하/VV', '어야/ECD', '되/VV', '나요/EFQ', '?/SF'], tags=['1']),\n",
              " TaggedDocument(words=['환불/NNG', '은/JX', '안되/VA', '나요/EFQ', '?/SF'], tags=['2']),\n",
              " TaggedDocument(words=['할인/NNG', '은/JX', '없/VA', '나요/EFQ', '?/SF'], tags=['3']),\n",
              " TaggedDocument(words=['만약/NNG', '게시물/NNG', '등록/NNG', '자/NNG', '의/JKG', '이력/NNG', '이/JKS', '허위/NNG', '이/VCP', 'ㄹ/ETD', '경우/NNG', '어떻게/MAG', '하나/NNG', '이/VCP', '요/EFN', '?/SF'], tags=['4']),\n",
              " TaggedDocument(words=['저/NP', '가/JKS', '원하/VV', '는/ETD', '상품/NNG', '이/JKS', '카테고리/NNG', '에/JKM', '없/VA', '을/ETD', '경우/NNG', '어떻게/MAG', '하나/NNG', '이/VCP', '요/EFN', '?/SF'], tags=['5'])]"
            ]
          },
          "metadata": {},
          "execution_count": 27
        }
      ]
    },
    {
      "cell_type": "code",
      "source": [
        "#모델 만들기\n",
        "import multiprocessing\n",
        "cores = multiprocessing.cpu_count()\n",
        "d2v_faqs = doc2vec.Doc2Vec(\n",
        "    vector_size = 50, ##\n",
        "    alpha = 0.025,\n",
        "    min_alpha = 0.025,\n",
        "    hs =1,\n",
        "    negative = 0, ##\n",
        "    dm = 0,\n",
        "    dbow_words = 1,\n",
        "    min_count =0, ##\n",
        "    workers = cores,\n",
        "    seed = 0\n",
        ")\n",
        "d2v_faqs.build_vocab(tagged_faqs) # 단어사전 만들기\n",
        "\n",
        "#학습시키기\n",
        "\n",
        "for epoch in range(10):\n",
        "  d2v_faqs.train(\n",
        "      tagged_faqs,\n",
        "      total_examples= d2v_faqs.corpus_count,\n",
        "      epochs = d2v_faqs.epochs\n",
        "\n",
        "  )\n",
        "\n",
        "d2v_faqs.alpha -= 0.0025 #갈수록 학습률을 줄인다 => 속도향상을 위해\n",
        "d2v_faqs.min_alpha = d2v_faqs.alpha #\n"
      ],
      "metadata": {
        "id": "rY5Q9goHlDRu"
      },
      "execution_count": null,
      "outputs": []
    },
    {
      "cell_type": "code",
      "source": [
        "#들어온 질문을 백터화하기\n",
        "test_string =\"결제는 어떻게 하나요?\"\n",
        "token_test = tokenizer_kkma(test_string)\n",
        "predict_vector = d2v_faqs.infer_vector(token_test)\n",
        "predict_vector"
      ],
      "metadata": {
        "colab": {
          "base_uri": "https://localhost:8080/"
        },
        "id": "6GQVBWhEuAJs",
        "outputId": "15d3f003-7d28-4078-9110-07fc72d64172"
      },
      "execution_count": null,
      "outputs": [
        {
          "output_type": "execute_result",
          "data": {
            "text/plain": [
              "array([ 1.20607438e-04, -4.43205377e-03,  7.50086829e-03, -1.01579390e-02,\n",
              "        3.38605605e-06, -4.23811935e-03, -1.42869242e-02, -2.97254673e-03,\n",
              "        1.24018015e-02,  8.97691399e-03,  1.46249998e-02,  6.40435843e-04,\n",
              "        8.90326221e-04, -5.16678905e-03,  1.14264991e-02,  6.45197229e-04,\n",
              "       -1.31245032e-02, -1.93658180e-03,  6.43060310e-03,  5.21113025e-03,\n",
              "       -4.08595148e-03, -1.02869505e-02,  1.43586716e-03,  2.55509745e-04,\n",
              "       -1.55134173e-03,  1.39704277e-03,  8.55676830e-03, -5.27267577e-03,\n",
              "       -5.11871325e-03,  1.32161297e-03, -3.34083964e-03, -2.45687668e-03,\n",
              "        9.40433238e-03,  1.44993188e-02, -6.52303733e-03,  1.12239541e-02,\n",
              "        4.66202153e-03,  8.50292202e-03,  3.79789458e-03,  5.52091980e-03,\n",
              "        7.55393784e-03,  6.31134491e-03,  5.98562066e-04, -9.28899925e-03,\n",
              "       -2.42132926e-04, -2.11913418e-03, -4.01182473e-03, -4.22273343e-03,\n",
              "       -1.48755289e-03,  6.56309677e-03], dtype=float32)"
            ]
          },
          "metadata": {},
          "execution_count": 37
        }
      ]
    },
    {
      "cell_type": "code",
      "source": [
        "#가장 유사한 값을 찾자\n",
        "d2v_faqs.docvecs.most_similar(predict_vector,topn=2)"
      ],
      "metadata": {
        "colab": {
          "base_uri": "https://localhost:8080/"
        },
        "id": "I1CjLOtYtxty",
        "outputId": "4b8b5f20-0a62-4664-fd85-fd1e4e7bdb3c"
      },
      "execution_count": null,
      "outputs": [
        {
          "output_type": "stream",
          "name": "stderr",
          "text": [
            "<ipython-input-39-4c0f47befb84>:2: DeprecationWarning: Call to deprecated `docvecs` (The `docvecs` property has been renamed `dv`.).\n",
            "  d2v_faqs.docvecs.most_similar([predict_vector],topn=2)\n"
          ]
        },
        {
          "output_type": "execute_result",
          "data": {
            "text/plain": [
              "[('5', 0.6130582094192505), ('1', 0.5998671650886536)]"
            ]
          },
          "metadata": {},
          "execution_count": 39
        }
      ]
    },
    {
      "cell_type": "code",
      "source": [],
      "metadata": {
        "id": "nuREAgQevGOb"
      },
      "execution_count": null,
      "outputs": []
    }
  ]
}